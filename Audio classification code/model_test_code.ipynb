{
 "cells": [
  {
   "cell_type": "code",
   "execution_count": 1,
   "metadata": {},
   "outputs": [],
   "source": [
    "import math\n",
    "import numpy as np\n",
    "import pandas as pd\n",
    "import matplotlib.pyplot as plt\n",
    "%matplotlib inline"
   ]
  },
  {
   "cell_type": "code",
   "execution_count": 2,
   "metadata": {},
   "outputs": [
    {
     "data": {
      "text/html": [
       "<div>\n",
       "<style scoped>\n",
       "    .dataframe tbody tr th:only-of-type {\n",
       "        vertical-align: middle;\n",
       "    }\n",
       "\n",
       "    .dataframe tbody tr th {\n",
       "        vertical-align: top;\n",
       "    }\n",
       "\n",
       "    .dataframe thead th {\n",
       "        text-align: right;\n",
       "    }\n",
       "</style>\n",
       "<table border=\"1\" class=\"dataframe\">\n",
       "  <thead>\n",
       "    <tr style=\"text-align: right;\">\n",
       "      <th></th>\n",
       "      <th>fname</th>\n",
       "      <th>label</th>\n",
       "      <th>manually_verified</th>\n",
       "      <th>freesound_id</th>\n",
       "      <th>license</th>\n",
       "    </tr>\n",
       "  </thead>\n",
       "  <tbody>\n",
       "    <tr>\n",
       "      <th>0</th>\n",
       "      <td>00044347.wav</td>\n",
       "      <td>Hi-hat</td>\n",
       "      <td>0</td>\n",
       "      <td>28739</td>\n",
       "      <td>Attribution</td>\n",
       "    </tr>\n",
       "    <tr>\n",
       "      <th>1</th>\n",
       "      <td>001ca53d.wav</td>\n",
       "      <td>Saxophone</td>\n",
       "      <td>1</td>\n",
       "      <td>358827</td>\n",
       "      <td>Attribution</td>\n",
       "    </tr>\n",
       "    <tr>\n",
       "      <th>2</th>\n",
       "      <td>002d256b.wav</td>\n",
       "      <td>Trumpet</td>\n",
       "      <td>0</td>\n",
       "      <td>10897</td>\n",
       "      <td>Creative Commons 0</td>\n",
       "    </tr>\n",
       "    <tr>\n",
       "      <th>3</th>\n",
       "      <td>0033e230.wav</td>\n",
       "      <td>Glockenspiel</td>\n",
       "      <td>1</td>\n",
       "      <td>325017</td>\n",
       "      <td>Attribution</td>\n",
       "    </tr>\n",
       "    <tr>\n",
       "      <th>4</th>\n",
       "      <td>00353774.wav</td>\n",
       "      <td>Cello</td>\n",
       "      <td>1</td>\n",
       "      <td>195688</td>\n",
       "      <td>Attribution</td>\n",
       "    </tr>\n",
       "  </tbody>\n",
       "</table>\n",
       "</div>"
      ],
      "text/plain": [
       "          fname         label  manually_verified  freesound_id  \\\n",
       "0  00044347.wav        Hi-hat                  0         28739   \n",
       "1  001ca53d.wav     Saxophone                  1        358827   \n",
       "2  002d256b.wav       Trumpet                  0         10897   \n",
       "3  0033e230.wav  Glockenspiel                  1        325017   \n",
       "4  00353774.wav         Cello                  1        195688   \n",
       "\n",
       "              license  \n",
       "0         Attribution  \n",
       "1         Attribution  \n",
       "2  Creative Commons 0  \n",
       "3         Attribution  \n",
       "4         Attribution  "
      ]
     },
     "execution_count": 2,
     "metadata": {},
     "output_type": "execute_result"
    }
   ],
   "source": [
    "df = pd.read_csv('input/train_post_competition.csv')\n",
    "df.head()"
   ]
  },
  {
   "cell_type": "code",
   "execution_count": 3,
   "metadata": {},
   "outputs": [],
   "source": [
    "import wave\n",
    "\n",
    "def get_length(file):\n",
    "    audio = wave.open(path+file)\n",
    "    return audio.getnframes() / audio.getframerate()\n"
   ]
  },
  {
   "cell_type": "code",
   "execution_count": 4,
   "metadata": {},
   "outputs": [],
   "source": [
    "import librosa"
   ]
  },
  {
   "cell_type": "code",
   "execution_count": 5,
   "metadata": {},
   "outputs": [],
   "source": [
    "def obtain_mfcc(file, features=40):\n",
    "    y, sr = librosa.load(path+file, res_type='kaiser_fast')\n",
    "    return librosa.feature.mfcc(y, sr, n_mfcc=features)"
   ]
  },
  {
   "cell_type": "code",
   "execution_count": 6,
   "metadata": {},
   "outputs": [],
   "source": [
    "def get_mfcc(file, n_mfcc=40, padding=None):\n",
    "    y, sr = librosa.load(file, res_type='kaiser_fast')\n",
    "    mfcc = librosa.feature.mfcc(y, sr, n_mfcc=n_mfcc)\n",
    "    if padding: mfcc = np.pad(mfcc, ((0, 0), (0, max(0, padding-mfcc.shape[1]))), 'constant')\n",
    "    return mfcc.astype(np.float32)"
   ]
  },
  {
   "cell_type": "code",
   "execution_count": 7,
   "metadata": {},
   "outputs": [],
   "source": [
    "lbl2idx={'Trumpet': 0,\n",
    " 'Cello': 1,\n",
    " 'Knock': 2,\n",
    " 'Gunshot_or_gunfire': 3,\n",
    " 'Hi-hat': 4,\n",
    " 'Snare_drum': 5,\n",
    " 'Writing': 6,\n",
    " 'Laughter': 7,\n",
    " 'Fart': 8,\n",
    " 'Oboe': 9,\n",
    " 'Cough': 10,\n",
    " 'Flute': 11,\n",
    " 'Bass_drum': 12,\n",
    " 'Clarinet': 13,\n",
    " 'Microwave_oven': 14,\n",
    " 'Burping_or_eructation': 15,\n",
    " 'Harmonica': 16,\n",
    " 'Double_bass': 17,\n",
    " 'Shatter': 18,\n",
    " 'Fireworks': 19,\n",
    " 'Bark': 20,\n",
    " 'Tambourine': 21,\n",
    " 'Telephone': 22,\n",
    " 'Keys_jangling': 23,\n",
    " 'Bus': 24,\n",
    " 'Cowbell': 25,\n",
    " 'Meow': 26,\n",
    " 'Drawer_open_or_close': 27,\n",
    " 'Squeak': 28,\n",
    " 'Glockenspiel': 29,\n",
    " 'Tearing': 30,\n",
    " 'Violin_or_fiddle': 31,\n",
    " 'Finger_snapping': 32,\n",
    " 'Acoustic_guitar': 33,\n",
    " 'Electric_piano': 34,\n",
    " 'Saxophone': 35,\n",
    " 'Scissors': 36,\n",
    " 'Gong': 37,\n",
    " 'Computer_keyboard': 38,\n",
    " 'Chime': 39,\n",
    " 'Applause': 40}"
   ]
  },
  {
   "cell_type": "code",
   "execution_count": 8,
   "metadata": {},
   "outputs": [],
   "source": [
    "n_categories = len(lbl2idx)"
   ]
  },
  {
   "cell_type": "code",
   "execution_count": 14,
   "metadata": {},
   "outputs": [],
   "source": [
    "idx2lbl = {0: 'Trumpet',\n",
    " 1: 'Cello',\n",
    " 2: 'Knock',\n",
    " 3: 'Gunshot_or_gunfire',\n",
    " 4: 'Hi-hat',\n",
    " 5: 'Snare_drum',\n",
    " 6: 'Writing',\n",
    " 7: 'Laughter',\n",
    " 8: 'Fart',\n",
    " 9: 'Oboe',\n",
    " 10: 'Cough',\n",
    " 11: 'Flute',\n",
    " 12: 'Bass_drum',\n",
    " 13: 'Clarinet',\n",
    " 14: 'Microwave_oven',\n",
    " 15: 'Burping_or_eructation',\n",
    " 16: 'Harmonica',\n",
    " 17: 'Double_bass',\n",
    " 18: 'Shatter',\n",
    " 19: 'Fireworks',\n",
    " 20: 'Bark',\n",
    " 21: 'Tambourine',\n",
    " 22: 'Telephone',\n",
    " 23: 'Keys_jangling',\n",
    " 24: 'Bus',\n",
    " 25: 'Cowbell',\n",
    " 26: 'Meow',\n",
    " 27: 'Drawer_open_or_close',\n",
    " 28: 'Squeak',\n",
    " 29: 'Glockenspiel',\n",
    " 30: 'Tearing',\n",
    " 31: 'Violin_or_fiddle',\n",
    " 32: 'Finger_snapping',\n",
    " 33: 'Acoustic_guitar',\n",
    " 34: 'Electric_piano',\n",
    " 35: 'Saxophone',\n",
    " 36: 'Scissors',\n",
    " 37: 'Gong',\n",
    " 38: 'Computer_keyboard',\n",
    " 39: 'Chime',\n",
    " 40: 'Applause'}"
   ]
  },
  {
   "cell_type": "code",
   "execution_count": 9,
   "metadata": {},
   "outputs": [
    {
     "name": "stderr",
     "output_type": "stream",
     "text": [
      "Using TensorFlow backend.\n"
     ]
    }
   ],
   "source": [
    "from keras.models import Model\n",
    "from keras.layers import Dense, Conv2D, BatchNormalization, Dropout, Input, GlobalAvgPool2D, GlobalMaxPool2D, concatenate\n",
    "from keras.optimizers import Adam, SGD\n",
    "import keras.backend as K"
   ]
  },
  {
   "cell_type": "code",
   "execution_count": 10,
   "metadata": {},
   "outputs": [],
   "source": [
    "bs = 128\n",
    "lr = 0.003\n"
   ]
  },
  {
   "cell_type": "code",
   "execution_count": 11,
   "metadata": {},
   "outputs": [
    {
     "name": "stdout",
     "output_type": "stream",
     "text": [
      "WARNING:tensorflow:From /home/ubuntu/anaconda3/envs/tensorflow_p36/lib/python3.6/site-packages/tensorflow/python/framework/op_def_library.py:263: colocate_with (from tensorflow.python.framework.ops) is deprecated and will be removed in a future version.\n",
      "Instructions for updating:\n",
      "Colocations handled automatically by placer.\n",
      "WARNING:tensorflow:From /home/ubuntu/anaconda3/envs/tensorflow_p36/lib/python3.6/site-packages/keras/backend/tensorflow_backend.py:3445: calling dropout (from tensorflow.python.ops.nn_ops) with keep_prob is deprecated and will be removed in a future version.\n",
      "Instructions for updating:\n",
      "Please use `rate` instead of `keep_prob`. Rate should be set to `rate = 1 - keep_prob`.\n",
      "WARNING:tensorflow:From /home/ubuntu/anaconda3/envs/tensorflow_p36/lib/python3.6/site-packages/tensorflow/python/ops/math_ops.py:3066: to_int32 (from tensorflow.python.ops.math_ops) is deprecated and will be removed in a future version.\n",
      "Instructions for updating:\n",
      "Use tf.cast instead.\n",
      "WARNING:tensorflow:From /home/ubuntu/anaconda3/envs/tensorflow_p36/lib/python3.6/site-packages/tensorflow/python/ops/math_grad.py:102: div (from tensorflow.python.ops.math_ops) is deprecated and will be removed in a future version.\n",
      "Instructions for updating:\n",
      "Deprecated in favor of operator or tf.math.divide.\n"
     ]
    }
   ],
   "source": [
    "from keras.models import load_model\n",
    "model = load_model('best_model.h5')"
   ]
  },
  {
   "cell_type": "code",
   "execution_count": 18,
   "metadata": {},
   "outputs": [
    {
     "name": "stdout",
     "output_type": "stream",
     "text": [
      "Cough\n"
     ]
    }
   ],
   "source": [
    "n_mfcc = 40\n",
    "padding = 259\n",
    "mfcc = get_mfcc(\"test_audio.wav\", n_mfcc, padding)[None, ..., None]\n",
    "y_ = model.predict(mfcc)\n",
    "pred = idx2lbl[np.argmax(y_)]\n",
    "print(pred)"
   ]
  },
  {
   "cell_type": "code",
   "execution_count": null,
   "metadata": {},
   "outputs": [],
   "source": []
  }
 ],
 "metadata": {
  "kernelspec": {
   "display_name": "Environment (conda_tensorflow_p36)",
   "language": "python",
   "name": "conda_tensorflow_p36"
  },
  "language_info": {
   "codemirror_mode": {
    "name": "ipython",
    "version": 3
   },
   "file_extension": ".py",
   "mimetype": "text/x-python",
   "name": "python",
   "nbconvert_exporter": "python",
   "pygments_lexer": "ipython3",
   "version": "3.6.5"
  }
 },
 "nbformat": 4,
 "nbformat_minor": 2
}
